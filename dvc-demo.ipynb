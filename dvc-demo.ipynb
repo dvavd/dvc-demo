{
 "cells": [
  {
   "cell_type": "markdown",
   "id": "19f3f351",
   "metadata": {},
   "source": [
    "# Data Version Control with Data Version Control: The Daughter of All Demos\n",
    "Welcome to our Demo!\n",
    "\n",
    "## Structure of Our Demo:\n",
    "- Introduction\n",
    "- How to Setup DVC\n",
    "- Setting Up a Pipeline and Tracking Changes\n",
    "- Conclusion\n",
    "- Take Home Message"
   ]
  },
  {
   "cell_type": "markdown",
   "id": "edfdfca5",
   "metadata": {},
   "source": [
    "## Introduction\n",
    "### What Is DVC\n",
    "### Why Should We Use It"
   ]
  },
  {
   "cell_type": "markdown",
   "id": "f06a7792",
   "metadata": {},
   "source": [
    "## How to Setup DVC"
   ]
  },
  {
   "cell_type": "code",
   "execution_count": null,
   "id": "c7b9f0eb",
   "metadata": {
    "vscode": {
     "languageId": "plaintext"
    }
   },
   "outputs": [],
   "source": [
    "!pip install dvc"
   ]
  },
  {
   "cell_type": "code",
   "execution_count": null,
   "id": "d860d226",
   "metadata": {
    "vscode": {
     "languageId": "plaintext"
    }
   },
   "outputs": [],
   "source": [
    "!dvc init"
   ]
  },
  {
   "cell_type": "code",
   "execution_count": null,
   "id": "d8695ae2",
   "metadata": {
    "vscode": {
     "languageId": "plaintext"
    }
   },
   "outputs": [],
   "source": [
    "!pip install \"dvc[gdrive]\""
   ]
  },
  {
   "cell_type": "code",
   "execution_count": null,
   "id": "02fd82ab",
   "metadata": {
    "vscode": {
     "languageId": "plaintext"
    }
   },
   "outputs": [],
   "source": [
    "!dvc remote add -d gdrive_remote gdrive://1nwS0cuebPIGgrNYEdOC8v2ykgIi2ISKQ"
   ]
  },
  {
   "cell_type": "code",
   "execution_count": null,
   "id": "393cf7b5",
   "metadata": {
    "vscode": {
     "languageId": "plaintext"
    }
   },
   "outputs": [],
   "source": [
    "!dvc remote list"
   ]
  },
  {
   "cell_type": "code",
   "execution_count": null,
   "id": "d84c5ace",
   "metadata": {
    "vscode": {
     "languageId": "plaintext"
    }
   },
   "outputs": [],
   "source": [
    "!dvc stage add -n prepare \\\n",
    "  -d demo/prepare.py -d data/bikesharing/train/bikeshare_v1.0.txt \\\n",
    "  -o prepared_data/bikeshare_prepared.txt \\\n",
    "  python demo/prepare.py \\"
   ]
  },
  {
   "cell_type": "code",
   "execution_count": null,
   "id": "c19a0e2e",
   "metadata": {
    "vscode": {
     "languageId": "plaintext"
    }
   },
   "outputs": [],
   "source": [
    "!dvc stage add -n train \\\n",
    "  -d demo/train.py -d prepared_data/bikeshare_prepared \\\n",
    "  -o model.pkl \\\n",
    "  python demo/train.py"
   ]
  },
  {
   "cell_type": "code",
   "execution_count": null,
   "id": "7bf2eacc",
   "metadata": {
    "vscode": {
     "languageId": "plaintext"
    }
   },
   "outputs": [],
   "source": [
    "!dvc repro"
   ]
  }
 ],
 "metadata": {
  "kernelspec": {
   "display_name": "Python 3 (ipykernel)",
   "language": "python",
   "name": "python3"
  },
  "language_info": {
   "codemirror_mode": {
    "name": "ipython",
    "version": 3
   },
   "file_extension": ".py",
   "mimetype": "text/x-python",
   "name": "python",
   "nbconvert_exporter": "python",
   "pygments_lexer": "ipython3",
   "version": "3.7.5"
  }
 },
 "nbformat": 4,
 "nbformat_minor": 5
}
