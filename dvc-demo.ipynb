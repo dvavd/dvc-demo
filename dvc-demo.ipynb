{
 "cells": [
  {
   "cell_type": "markdown",
   "id": "19f3f351",
   "metadata": {},
   "source": [
    "# Data Version Control with Data Version Control: The Daughter of All Demos\n",
    "Demo by Wenqi Cao and David Streuli\n",
    "\n",
    "## Structure\n",
    "1. Introduction\n",
    "2. How to Set Up DVC\n",
    "3. Setting Up a Pipeline and Tracking Changes\n",
    "4. Conclusion\n",
    "5. Take Home Message"
   ]
  },
  {
   "cell_type": "markdown",
   "id": "edfdfca5",
   "metadata": {},
   "source": [
    "## Introduction\n",
    "![Alt Text](./dvc.png)\n",
    "### What Is DVC\n",
    "- Open-source tool designed for version control of datasets and ML models\n",
    "- Works alongside Git\n",
    "- Automatically detects changes in tracked files\n",
    "\n",
    "![Alt Text](./dvc_diagram.png)\n",
    "### Why Should We Use It\n",
    "- Dynamic datasets: Datasets evolve over time\n",
    "- Large datasets: DVC can handle large files\n",
    "- Change detection\n",
    "- Versioning\n"
   ]
  },
  {
   "cell_type": "markdown",
   "id": "f06a7792",
   "metadata": {},
   "source": [
    "## How to Setup DVC"
   ]
  },
  {
   "cell_type": "markdown",
   "id": "089b3e08",
   "metadata": {},
   "source": [
    "First install DVC."
   ]
  },
  {
   "cell_type": "code",
   "execution_count": null,
   "id": "c7b9f0eb",
   "metadata": {},
   "outputs": [],
   "source": [
    "%pip install dvc"
   ]
  },
  {
   "cell_type": "markdown",
   "id": "e5cba526",
   "metadata": {},
   "source": [
    "Initialise a DVC project. This will create a new directory `/.dvc`which contains configuration files and metadata."
   ]
  },
  {
   "cell_type": "code",
   "execution_count": null,
   "id": "d860d226",
   "metadata": {},
   "outputs": [],
   "source": [
    "!dvc init"
   ]
  },
  {
   "cell_type": "markdown",
   "id": "ae16e9d5",
   "metadata": {},
   "source": [
    "We will use Google Drive for remote storage and need to install an additional dependency for this."
   ]
  },
  {
   "cell_type": "code",
   "execution_count": null,
   "id": "d8695ae2",
   "metadata": {},
   "outputs": [],
   "source": [
    "%pip install \"dvc[gdrive]\""
   ]
  },
  {
   "cell_type": "markdown",
   "id": "97c7589f",
   "metadata": {},
   "source": [
    "We link the folder on our Google Drive."
   ]
  },
  {
   "cell_type": "code",
   "execution_count": null,
   "id": "02fd82ab",
   "metadata": {},
   "outputs": [],
   "source": [
    "!dvc remote add -d gdrive_remote gdrive://1nwS0cuebPIGgrNYEdOC8v2ykgIi2ISKQ"
   ]
  },
  {
   "cell_type": "code",
   "execution_count": null,
   "id": "393cf7b5",
   "metadata": {},
   "outputs": [],
   "source": [
    "!dvc remote list"
   ]
  },
  {
   "cell_type": "markdown",
   "id": "69c67388",
   "metadata": {},
   "source": [
    "Set the credentials. "
   ]
  },
  {
   "cell_type": "code",
   "execution_count": null,
   "id": "ecf72684",
   "metadata": {},
   "outputs": [],
   "source": [
    "!dvc remote modify gdrive_remote gdrive_client_id 'client-id'\n",
    "!dvc remote modify gdrive_remote gdrive_client_secret 'client-secret'"
   ]
  },
  {
   "cell_type": "markdown",
   "id": "9078203e",
   "metadata": {},
   "source": [
    "## Remote Storage and Data Tracking"
   ]
  },
  {
   "cell_type": "code",
   "execution_count": null,
   "id": "286b5719",
   "metadata": {},
   "outputs": [],
   "source": [
    "!dvc add data/bikesharing/train/bikeshare_v1.0.txt\n",
    "!dvc add data/bikesharing/validation/validation.txt"
   ]
  },
  {
   "cell_type": "code",
   "execution_count": null,
   "id": "9b3c8899",
   "metadata": {},
   "outputs": [],
   "source": [
    "!dvc push"
   ]
  },
  {
   "cell_type": "markdown",
   "id": "e0e1e6b3",
   "metadata": {},
   "source": [
    "## Setting Up a Pipeline and Tracking Changes"
   ]
  },
  {
   "cell_type": "code",
   "execution_count": null,
   "id": "d84c5ace",
   "metadata": {},
   "outputs": [],
   "source": [
    "!dvc stage add -n prepare \\\n",
    "  -d demo/prepare.py \\\n",
    "  -d data/bikesharing/train/bikeshare_v1.0.txt \\\n",
    "  -d data/bikesharing/validation/validation.txt \\\n",
    "  -o data/bikesharing/train/bikeshare_prepared.txt \\\n",
    "  -o data/bikesharing/validation/validation_prepared.txt \\\n",
    "  python demo/prepare.py"
   ]
  },
  {
   "cell_type": "code",
   "execution_count": null,
   "id": "c19a0e2e",
   "metadata": {},
   "outputs": [],
   "source": [
    "!dvc stage add -n train \\\n",
    "  -d demo/train.py \\\n",
    "  -d data/bikesharing/validation/validation_prepared.txt \\\n",
    "  -d data/bikesharing/train/bikeshare_prepared.txt \\\n",
    "  python demo/train.py"
   ]
  },
  {
   "cell_type": "code",
   "execution_count": null,
   "id": "7bf2eacc",
   "metadata": {},
   "outputs": [],
   "source": [
    "!dvc repro"
   ]
  },
  {
   "cell_type": "code",
   "execution_count": null,
   "id": "7dbe15b3",
   "metadata": {},
   "outputs": [],
   "source": [
    "from PIL import Image\n",
    "import matplotlib.pyplot as plt\n",
    "\n",
    "image_path = './scatter_plot.png'\n",
    "\n",
    "img = Image.open(image_path)\n",
    "\n",
    "plt.figure(figsize=(10, 6))\n",
    "plt.imshow(img)\n",
    "plt.axis('off')\n",
    "plt.show()"
   ]
  },
  {
   "cell_type": "code",
   "execution_count": null,
   "id": "a4027181",
   "metadata": {},
   "outputs": [],
   "source": [
    "from PIL import Image\n",
    "import matplotlib.pyplot as plt\n",
    "\n",
    "image_path = './model_plot.png'\n",
    "\n",
    "img = Image.open(image_path)\n",
    "\n",
    "plt.figure(figsize=(10, 6))\n",
    "plt.imshow(img)\n",
    "plt.axis('off')\n",
    "plt.show()\n"
   ]
  },
  {
   "cell_type": "code",
   "execution_count": null,
   "id": "b46931f2",
   "metadata": {},
   "outputs": [],
   "source": [
    "!dvc push"
   ]
  },
  {
   "cell_type": "markdown",
   "id": "fff1107f",
   "metadata": {},
   "source": [
    "## Demonstrate Change of Data"
   ]
  },
  {
   "cell_type": "code",
   "execution_count": null,
   "id": "f5669f97",
   "metadata": {},
   "outputs": [],
   "source": [
    "!dvc add data/bikesharing/train/bikeshare_v1.0.txt\n",
    "!dvc push"
   ]
  },
  {
   "cell_type": "code",
   "execution_count": null,
   "id": "472e5928",
   "metadata": {},
   "outputs": [],
   "source": [
    "!dvc repro"
   ]
  },
  {
   "cell_type": "markdown",
   "id": "8fabd981",
   "metadata": {},
   "source": [
    "## Conclusion\n",
    "\n",
    "Pros:\n",
    "- Data Versioning: DVC enables **version control for datasets** and machine learning models, similar to how Git handles source code\n",
    "- Efficient Storage: DVC avoids data duplication by **storing only the differences** between data versions, using external storage\n",
    "- Collaboration: Improves productivity by allowing you to **collaborate on data and models** without needing to share large files.\n",
    "\n",
    "Cons:\n",
    "- Learning Curve\n",
    "- Not Ideal for Small Projects\n",
    "- Overhead in Workflow (Setup)\n",
    "- Setup of Remote Storage (DVC App is currently blocked by Google, does not support environment variables)"
   ]
  },
  {
   "cell_type": "markdown",
   "id": "ff03a296",
   "metadata": {},
   "source": [
    "## Take Home Message\n",
    "Use data versioning for longterm ML projects that are collaborative or involve large datasets. DVC (the tool) is a great option for this."
   ]
  }
 ],
 "metadata": {
  "kernelspec": {
   "display_name": "Python 3 (ipykernel)",
   "language": "python",
   "name": "python3"
  },
  "language_info": {
   "codemirror_mode": {
    "name": "ipython",
    "version": 3
   },
   "file_extension": ".py",
   "mimetype": "text/x-python",
   "name": "python",
   "nbconvert_exporter": "python",
   "pygments_lexer": "ipython3",
   "version": "3.10.15"
  }
 },
 "nbformat": 4,
 "nbformat_minor": 5
}
