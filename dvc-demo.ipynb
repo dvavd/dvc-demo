{
 "cells": [
  {
   "cell_type": "markdown",
   "id": "19f3f351",
   "metadata": {},
   "source": [
    "# Data Version Control with Data Version Control: The Daughter of All Demos\n",
    "Welcome to our Demo!\n",
    "\n",
    "## Structure of Our Demo:\n",
    "- Introduction\n",
    "- How to Setup DVC\n",
    "- Setting Up a Pipeline and Tracking Changes\n",
    "- Conclusion\n",
    "- Take Home Message"
   ]
  },
  {
   "cell_type": "markdown",
   "id": "edfdfca5",
   "metadata": {},
   "source": [
    "## Introduction\n",
    "### What Is DVC\n",
    "### Why Should We Use It"
   ]
  },
  {
   "cell_type": "markdown",
   "id": "f06a7792",
   "metadata": {},
   "source": [
    "## How to Setup DVC"
   ]
  },
  {
   "cell_type": "markdown",
   "id": "089b3e08",
   "metadata": {},
   "source": [
    "First install DVC."
   ]
  },
  {
   "cell_type": "code",
   "execution_count": 13,
   "id": "c7b9f0eb",
   "metadata": {},
   "outputs": [
    {
     "name": "stdout",
     "output_type": "stream",
     "text": [
      "Requirement already satisfied: dvc in /Users/davidstreuli/anaconda3/envs/dvcdemo/lib/python3.10/site-packages (3.55.2)\n",
      "Requirement already satisfied: attrs>=22.2.0 in /Users/davidstreuli/anaconda3/envs/dvcdemo/lib/python3.10/site-packages (from dvc) (24.2.0)\n",
      "Requirement already satisfied: celery in /Users/davidstreuli/anaconda3/envs/dvcdemo/lib/python3.10/site-packages (from dvc) (5.4.0)\n",
      "Requirement already satisfied: colorama>=0.3.9 in /Users/davidstreuli/anaconda3/envs/dvcdemo/lib/python3.10/site-packages (from dvc) (0.4.6)\n",
      "Requirement already satisfied: configobj>=5.0.6 in /Users/davidstreuli/anaconda3/envs/dvcdemo/lib/python3.10/site-packages (from dvc) (5.0.9)\n",
      "Requirement already satisfied: distro>=1.3 in /Users/davidstreuli/anaconda3/envs/dvcdemo/lib/python3.10/site-packages (from dvc) (1.9.0)\n",
      "Requirement already satisfied: dpath<3,>=2.1.0 in /Users/davidstreuli/anaconda3/envs/dvcdemo/lib/python3.10/site-packages (from dvc) (2.2.0)\n",
      "Requirement already satisfied: dulwich in /Users/davidstreuli/anaconda3/envs/dvcdemo/lib/python3.10/site-packages (from dvc) (0.22.1)\n",
      "Requirement already satisfied: dvc-data<3.17,>=3.16.2 in /Users/davidstreuli/anaconda3/envs/dvcdemo/lib/python3.10/site-packages (from dvc) (3.16.6)\n",
      "Requirement already satisfied: dvc-http>=2.29.0 in /Users/davidstreuli/anaconda3/envs/dvcdemo/lib/python3.10/site-packages (from dvc) (2.32.0)\n",
      "Requirement already satisfied: dvc-objects in /Users/davidstreuli/anaconda3/envs/dvcdemo/lib/python3.10/site-packages (from dvc) (5.1.0)\n",
      "Requirement already satisfied: dvc-render<2,>=1.0.1 in /Users/davidstreuli/anaconda3/envs/dvcdemo/lib/python3.10/site-packages (from dvc) (1.0.2)\n",
      "Requirement already satisfied: dvc-studio-client<1,>=0.21 in /Users/davidstreuli/anaconda3/envs/dvcdemo/lib/python3.10/site-packages (from dvc) (0.21.0)\n",
      "Requirement already satisfied: dvc-task<1,>=0.3.0 in /Users/davidstreuli/anaconda3/envs/dvcdemo/lib/python3.10/site-packages (from dvc) (0.4.0)\n",
      "Requirement already satisfied: flatten-dict<1,>=0.4.1 in /Users/davidstreuli/anaconda3/envs/dvcdemo/lib/python3.10/site-packages (from dvc) (0.4.2)\n",
      "Requirement already satisfied: flufl.lock<9,>=8.1.0 in /Users/davidstreuli/anaconda3/envs/dvcdemo/lib/python3.10/site-packages (from dvc) (8.1.0)\n",
      "Requirement already satisfied: fsspec>=2024.2.0 in /Users/davidstreuli/anaconda3/envs/dvcdemo/lib/python3.10/site-packages (from dvc) (2024.9.0)\n",
      "Requirement already satisfied: funcy>=1.14 in /Users/davidstreuli/anaconda3/envs/dvcdemo/lib/python3.10/site-packages (from dvc) (2.0)\n",
      "Requirement already satisfied: grandalf<1,>=0.7 in /Users/davidstreuli/anaconda3/envs/dvcdemo/lib/python3.10/site-packages (from dvc) (0.8)\n",
      "Requirement already satisfied: gto<2,>=1.6.0 in /Users/davidstreuli/anaconda3/envs/dvcdemo/lib/python3.10/site-packages (from dvc) (1.7.1)\n",
      "Requirement already satisfied: hydra-core>=1.1 in /Users/davidstreuli/anaconda3/envs/dvcdemo/lib/python3.10/site-packages (from dvc) (1.3.2)\n",
      "Requirement already satisfied: iterative-telemetry>=0.0.7 in /Users/davidstreuli/anaconda3/envs/dvcdemo/lib/python3.10/site-packages (from dvc) (0.0.9)\n",
      "Requirement already satisfied: kombu in /Users/davidstreuli/anaconda3/envs/dvcdemo/lib/python3.10/site-packages (from dvc) (5.4.2)\n",
      "Requirement already satisfied: networkx>=2.5 in /Users/davidstreuli/anaconda3/envs/dvcdemo/lib/python3.10/site-packages (from dvc) (3.3)\n",
      "Requirement already satisfied: omegaconf in /Users/davidstreuli/anaconda3/envs/dvcdemo/lib/python3.10/site-packages (from dvc) (2.3.0)\n",
      "Requirement already satisfied: packaging>=19 in /Users/davidstreuli/anaconda3/envs/dvcdemo/lib/python3.10/site-packages (from dvc) (24.1)\n",
      "Requirement already satisfied: pathspec>=0.10.3 in /Users/davidstreuli/anaconda3/envs/dvcdemo/lib/python3.10/site-packages (from dvc) (0.12.1)\n",
      "Requirement already satisfied: platformdirs<4,>=3.1.1 in /Users/davidstreuli/anaconda3/envs/dvcdemo/lib/python3.10/site-packages (from dvc) (3.11.0)\n",
      "Requirement already satisfied: psutil>=5.8 in /Users/davidstreuli/anaconda3/envs/dvcdemo/lib/python3.10/site-packages (from dvc) (6.0.0)\n",
      "Requirement already satisfied: pydot>=1.2.4 in /Users/davidstreuli/anaconda3/envs/dvcdemo/lib/python3.10/site-packages (from dvc) (3.0.2)\n",
      "Requirement already satisfied: pygtrie>=2.3.2 in /Users/davidstreuli/anaconda3/envs/dvcdemo/lib/python3.10/site-packages (from dvc) (2.5.0)\n",
      "Requirement already satisfied: pyparsing>=2.4.7 in /Users/davidstreuli/anaconda3/envs/dvcdemo/lib/python3.10/site-packages (from dvc) (3.1.4)\n",
      "Requirement already satisfied: requests>=2.22 in /Users/davidstreuli/anaconda3/envs/dvcdemo/lib/python3.10/site-packages (from dvc) (2.32.3)\n",
      "Requirement already satisfied: rich>=12 in /Users/davidstreuli/anaconda3/envs/dvcdemo/lib/python3.10/site-packages (from dvc) (13.8.1)\n",
      "Requirement already satisfied: ruamel.yaml>=0.17.11 in /Users/davidstreuli/anaconda3/envs/dvcdemo/lib/python3.10/site-packages (from dvc) (0.18.6)\n",
      "Requirement already satisfied: scmrepo<4,>=3.3.4 in /Users/davidstreuli/anaconda3/envs/dvcdemo/lib/python3.10/site-packages (from dvc) (3.3.8)\n",
      "Requirement already satisfied: shortuuid>=0.5 in /Users/davidstreuli/anaconda3/envs/dvcdemo/lib/python3.10/site-packages (from dvc) (1.0.13)\n",
      "Requirement already satisfied: shtab<2,>=1.3.4 in /Users/davidstreuli/anaconda3/envs/dvcdemo/lib/python3.10/site-packages (from dvc) (1.7.1)\n",
      "Requirement already satisfied: tabulate>=0.8.7 in /Users/davidstreuli/anaconda3/envs/dvcdemo/lib/python3.10/site-packages (from dvc) (0.9.0)\n",
      "Requirement already satisfied: tomlkit>=0.11.1 in /Users/davidstreuli/anaconda3/envs/dvcdemo/lib/python3.10/site-packages (from dvc) (0.13.2)\n",
      "Requirement already satisfied: tqdm<5,>=4.63.1 in /Users/davidstreuli/anaconda3/envs/dvcdemo/lib/python3.10/site-packages (from dvc) (4.66.5)\n",
      "Requirement already satisfied: voluptuous>=0.11.7 in /Users/davidstreuli/anaconda3/envs/dvcdemo/lib/python3.10/site-packages (from dvc) (0.15.2)\n",
      "Requirement already satisfied: zc.lockfile>=1.2.1 in /Users/davidstreuli/anaconda3/envs/dvcdemo/lib/python3.10/site-packages (from dvc) (3.0.post1)\n",
      "Requirement already satisfied: dictdiffer>=0.8.1 in /Users/davidstreuli/anaconda3/envs/dvcdemo/lib/python3.10/site-packages (from dvc-data<3.17,>=3.16.2->dvc) (0.9.0)\n",
      "Requirement already satisfied: diskcache>=5.2.1 in /Users/davidstreuli/anaconda3/envs/dvcdemo/lib/python3.10/site-packages (from dvc-data<3.17,>=3.16.2->dvc) (5.6.3)\n",
      "Requirement already satisfied: sqltrie<1,>=0.11.0 in /Users/davidstreuli/anaconda3/envs/dvcdemo/lib/python3.10/site-packages (from dvc-data<3.17,>=3.16.2->dvc) (0.11.1)\n",
      "Requirement already satisfied: orjson<4,>=3 in /Users/davidstreuli/anaconda3/envs/dvcdemo/lib/python3.10/site-packages (from dvc-data<3.17,>=3.16.2->dvc) (3.10.7)\n",
      "Requirement already satisfied: aiohttp-retry>=2.5.0 in /Users/davidstreuli/anaconda3/envs/dvcdemo/lib/python3.10/site-packages (from dvc-http>=2.29.0->dvc) (2.8.3)\n",
      "Requirement already satisfied: billiard<5.0,>=4.2.0 in /Users/davidstreuli/anaconda3/envs/dvcdemo/lib/python3.10/site-packages (from celery->dvc) (4.2.1)\n",
      "Requirement already satisfied: vine<6.0,>=5.1.0 in /Users/davidstreuli/anaconda3/envs/dvcdemo/lib/python3.10/site-packages (from celery->dvc) (5.1.0)\n",
      "Requirement already satisfied: click<9.0,>=8.1.2 in /Users/davidstreuli/anaconda3/envs/dvcdemo/lib/python3.10/site-packages (from celery->dvc) (8.1.7)\n",
      "Requirement already satisfied: click-didyoumean>=0.3.0 in /Users/davidstreuli/anaconda3/envs/dvcdemo/lib/python3.10/site-packages (from celery->dvc) (0.3.1)\n",
      "Requirement already satisfied: click-repl>=0.2.0 in /Users/davidstreuli/anaconda3/envs/dvcdemo/lib/python3.10/site-packages (from celery->dvc) (0.3.0)\n",
      "Requirement already satisfied: click-plugins>=1.1.1 in /Users/davidstreuli/anaconda3/envs/dvcdemo/lib/python3.10/site-packages (from celery->dvc) (1.1.1)\n",
      "Requirement already satisfied: tzdata>=2022.7 in /Users/davidstreuli/anaconda3/envs/dvcdemo/lib/python3.10/site-packages (from celery->dvc) (2024.2)\n",
      "Requirement already satisfied: python-dateutil>=2.8.2 in /Users/davidstreuli/anaconda3/envs/dvcdemo/lib/python3.10/site-packages (from celery->dvc) (2.9.0)\n",
      "Requirement already satisfied: six<2.0,>=1.12 in /Users/davidstreuli/anaconda3/envs/dvcdemo/lib/python3.10/site-packages (from flatten-dict<1,>=0.4.1->dvc) (1.16.0)\n",
      "Requirement already satisfied: atpublic in /Users/davidstreuli/anaconda3/envs/dvcdemo/lib/python3.10/site-packages (from flufl.lock<9,>=8.1.0->dvc) (5.0)\n",
      "Requirement already satisfied: typer>=0.4.1 in /Users/davidstreuli/anaconda3/envs/dvcdemo/lib/python3.10/site-packages (from gto<2,>=1.6.0->dvc) (0.12.5)\n",
      "Requirement already satisfied: pydantic!=2.0.0,<3,>=1.9.0 in /Users/davidstreuli/anaconda3/envs/dvcdemo/lib/python3.10/site-packages (from gto<2,>=1.6.0->dvc) (2.9.2)\n",
      "Requirement already satisfied: semver>=2.13.0 in /Users/davidstreuli/anaconda3/envs/dvcdemo/lib/python3.10/site-packages (from gto<2,>=1.6.0->dvc) (3.0.2)\n",
      "Requirement already satisfied: entrypoints in /Users/davidstreuli/anaconda3/envs/dvcdemo/lib/python3.10/site-packages (from gto<2,>=1.6.0->dvc) (0.4)\n",
      "Requirement already satisfied: antlr4-python3-runtime==4.9.* in /Users/davidstreuli/anaconda3/envs/dvcdemo/lib/python3.10/site-packages (from hydra-core>=1.1->dvc) (4.9.3)\n",
      "Requirement already satisfied: appdirs in /Users/davidstreuli/anaconda3/envs/dvcdemo/lib/python3.10/site-packages (from iterative-telemetry>=0.0.7->dvc) (1.4.4)\n",
      "Requirement already satisfied: filelock in /Users/davidstreuli/anaconda3/envs/dvcdemo/lib/python3.10/site-packages (from iterative-telemetry>=0.0.7->dvc) (3.16.1)\n",
      "Requirement already satisfied: amqp<6.0.0,>=5.1.1 in /Users/davidstreuli/anaconda3/envs/dvcdemo/lib/python3.10/site-packages (from kombu->dvc) (5.2.0)\n",
      "Requirement already satisfied: PyYAML>=5.1.0 in /Users/davidstreuli/anaconda3/envs/dvcdemo/lib/python3.10/site-packages (from omegaconf->dvc) (6.0.2)\n",
      "Requirement already satisfied: charset-normalizer<4,>=2 in /Users/davidstreuli/anaconda3/envs/dvcdemo/lib/python3.10/site-packages (from requests>=2.22->dvc) (3.3.2)\n",
      "Requirement already satisfied: idna<4,>=2.5 in /Users/davidstreuli/anaconda3/envs/dvcdemo/lib/python3.10/site-packages (from requests>=2.22->dvc) (3.10)\n",
      "Requirement already satisfied: urllib3<3,>=1.21.1 in /Users/davidstreuli/anaconda3/envs/dvcdemo/lib/python3.10/site-packages (from requests>=2.22->dvc) (2.2.3)\n",
      "Requirement already satisfied: certifi>=2017.4.17 in /Users/davidstreuli/anaconda3/envs/dvcdemo/lib/python3.10/site-packages (from requests>=2.22->dvc) (2024.8.30)\n",
      "Requirement already satisfied: markdown-it-py>=2.2.0 in /Users/davidstreuli/anaconda3/envs/dvcdemo/lib/python3.10/site-packages (from rich>=12->dvc) (3.0.0)\n",
      "Requirement already satisfied: pygments<3.0.0,>=2.13.0 in /Users/davidstreuli/anaconda3/envs/dvcdemo/lib/python3.10/site-packages (from rich>=12->dvc) (2.18.0)\n",
      "Requirement already satisfied: ruamel.yaml.clib>=0.2.7 in /Users/davidstreuli/anaconda3/envs/dvcdemo/lib/python3.10/site-packages (from ruamel.yaml>=0.17.11->dvc) (0.2.8)\n",
      "Requirement already satisfied: gitpython>3 in /Users/davidstreuli/anaconda3/envs/dvcdemo/lib/python3.10/site-packages (from scmrepo<4,>=3.3.4->dvc) (3.1.43)\n",
      "Requirement already satisfied: pygit2>=1.14.0 in /Users/davidstreuli/anaconda3/envs/dvcdemo/lib/python3.10/site-packages (from scmrepo<4,>=3.3.4->dvc) (1.15.1)\n",
      "Requirement already satisfied: asyncssh<3,>=2.13.1 in /Users/davidstreuli/anaconda3/envs/dvcdemo/lib/python3.10/site-packages (from scmrepo<4,>=3.3.4->dvc) (2.17.0)\n",
      "Requirement already satisfied: setuptools in /Users/davidstreuli/anaconda3/envs/dvcdemo/lib/python3.10/site-packages (from zc.lockfile>=1.2.1->dvc) (75.1.0)\n",
      "Requirement already satisfied: aiohttp in /Users/davidstreuli/anaconda3/envs/dvcdemo/lib/python3.10/site-packages (from aiohttp-retry>=2.5.0->dvc-http>=2.29.0->dvc) (3.10.8)\n",
      "Requirement already satisfied: cryptography>=39.0 in /Users/davidstreuli/anaconda3/envs/dvcdemo/lib/python3.10/site-packages (from asyncssh<3,>=2.13.1->scmrepo<4,>=3.3.4->dvc) (43.0.1)\n",
      "Requirement already satisfied: typing-extensions>=4.0.0 in /Users/davidstreuli/anaconda3/envs/dvcdemo/lib/python3.10/site-packages (from asyncssh<3,>=2.13.1->scmrepo<4,>=3.3.4->dvc) (4.12.2)\n",
      "Requirement already satisfied: prompt-toolkit>=3.0.36 in /Users/davidstreuli/anaconda3/envs/dvcdemo/lib/python3.10/site-packages (from click-repl>=0.2.0->celery->dvc) (3.0.48)\n",
      "Requirement already satisfied: gitdb<5,>=4.0.1 in /Users/davidstreuli/anaconda3/envs/dvcdemo/lib/python3.10/site-packages (from gitpython>3->scmrepo<4,>=3.3.4->dvc) (4.0.11)\n",
      "Requirement already satisfied: mdurl~=0.1 in /Users/davidstreuli/anaconda3/envs/dvcdemo/lib/python3.10/site-packages (from markdown-it-py>=2.2.0->rich>=12->dvc) (0.1.2)\n",
      "Requirement already satisfied: annotated-types>=0.6.0 in /Users/davidstreuli/anaconda3/envs/dvcdemo/lib/python3.10/site-packages (from pydantic!=2.0.0,<3,>=1.9.0->gto<2,>=1.6.0->dvc) (0.7.0)\n",
      "Requirement already satisfied: pydantic-core==2.23.4 in /Users/davidstreuli/anaconda3/envs/dvcdemo/lib/python3.10/site-packages (from pydantic!=2.0.0,<3,>=1.9.0->gto<2,>=1.6.0->dvc) (2.23.4)\n",
      "Requirement already satisfied: cffi>=1.16.0 in /Users/davidstreuli/anaconda3/envs/dvcdemo/lib/python3.10/site-packages (from pygit2>=1.14.0->scmrepo<4,>=3.3.4->dvc) (1.17.1)\n",
      "Requirement already satisfied: shellingham>=1.3.0 in /Users/davidstreuli/anaconda3/envs/dvcdemo/lib/python3.10/site-packages (from typer>=0.4.1->gto<2,>=1.6.0->dvc) (1.5.4)\n",
      "Requirement already satisfied: aiohappyeyeballs>=2.3.0 in /Users/davidstreuli/anaconda3/envs/dvcdemo/lib/python3.10/site-packages (from aiohttp->aiohttp-retry>=2.5.0->dvc-http>=2.29.0->dvc) (2.4.2)\n",
      "Requirement already satisfied: aiosignal>=1.1.2 in /Users/davidstreuli/anaconda3/envs/dvcdemo/lib/python3.10/site-packages (from aiohttp->aiohttp-retry>=2.5.0->dvc-http>=2.29.0->dvc) (1.3.1)\n",
      "Requirement already satisfied: frozenlist>=1.1.1 in /Users/davidstreuli/anaconda3/envs/dvcdemo/lib/python3.10/site-packages (from aiohttp->aiohttp-retry>=2.5.0->dvc-http>=2.29.0->dvc) (1.4.1)\n",
      "Requirement already satisfied: multidict<7.0,>=4.5 in /Users/davidstreuli/anaconda3/envs/dvcdemo/lib/python3.10/site-packages (from aiohttp->aiohttp-retry>=2.5.0->dvc-http>=2.29.0->dvc) (6.1.0)\n",
      "Requirement already satisfied: yarl<2.0,>=1.12.0 in /Users/davidstreuli/anaconda3/envs/dvcdemo/lib/python3.10/site-packages (from aiohttp->aiohttp-retry>=2.5.0->dvc-http>=2.29.0->dvc) (1.13.1)\n",
      "Requirement already satisfied: async-timeout<5.0,>=4.0 in /Users/davidstreuli/anaconda3/envs/dvcdemo/lib/python3.10/site-packages (from aiohttp->aiohttp-retry>=2.5.0->dvc-http>=2.29.0->dvc) (4.0.3)\n",
      "Requirement already satisfied: pycparser in /Users/davidstreuli/anaconda3/envs/dvcdemo/lib/python3.10/site-packages (from cffi>=1.16.0->pygit2>=1.14.0->scmrepo<4,>=3.3.4->dvc) (2.22)\n",
      "Requirement already satisfied: smmap<6,>=3.0.1 in /Users/davidstreuli/anaconda3/envs/dvcdemo/lib/python3.10/site-packages (from gitdb<5,>=4.0.1->gitpython>3->scmrepo<4,>=3.3.4->dvc) (5.0.1)\n",
      "Requirement already satisfied: wcwidth in /Users/davidstreuli/anaconda3/envs/dvcdemo/lib/python3.10/site-packages (from prompt-toolkit>=3.0.36->click-repl>=0.2.0->celery->dvc) (0.2.13)\n"
     ]
    }
   ],
   "source": [
    "%pip install dvc"
   ]
  },
  {
   "cell_type": "markdown",
   "id": "e5cba526",
   "metadata": {},
   "source": [
    "Initialise a DVC project. This will create a new directory `/.dvc`which contains configuration files and metadata."
   ]
  },
  {
   "cell_type": "code",
   "execution_count": 14,
   "id": "d860d226",
   "metadata": {},
   "outputs": [
    {
     "name": "stdout",
     "output_type": "stream",
     "text": [
      "Initialized DVC repository.\n",
      "\n",
      "You can now commit the changes to git.\n",
      "\n",
      "\u001b[31m+---------------------------------------------------------------------+\n",
      "\u001b[0m\u001b[31m|\u001b[0m                                                                     \u001b[31m|\u001b[0m\n",
      "\u001b[31m|\u001b[0m        DVC has enabled anonymous aggregate usage analytics.         \u001b[31m|\u001b[0m\n",
      "\u001b[31m|\u001b[0m     Read the analytics documentation (and how to opt-out) here:     \u001b[31m|\u001b[0m\n",
      "\u001b[31m|\u001b[0m             <\u001b[36mhttps://dvc.org/doc/user-guide/analytics\u001b[39m>              \u001b[31m|\u001b[0m\n",
      "\u001b[31m|\u001b[0m                                                                     \u001b[31m|\u001b[0m\n",
      "\u001b[31m+---------------------------------------------------------------------+\n",
      "\u001b[0m\n",
      "\u001b[33mWhat's next?\u001b[39m\n",
      "\u001b[33m------------\u001b[39m\n",
      "- Check out the documentation: <\u001b[36mhttps://dvc.org/doc\u001b[39m>\n",
      "- Get help and share ideas: <\u001b[36mhttps://dvc.org/chat\u001b[39m>\n",
      "- Star us on GitHub: <\u001b[36mhttps://github.com/iterative/dvc\u001b[39m>\n",
      "\u001b[0m"
     ]
    }
   ],
   "source": [
    "!dvc init"
   ]
  },
  {
   "cell_type": "markdown",
   "id": "ae16e9d5",
   "metadata": {},
   "source": [
    "We will use Google Drive for remote storage and need to install an additional dependency for this."
   ]
  },
  {
   "cell_type": "code",
   "execution_count": 15,
   "id": "d8695ae2",
   "metadata": {},
   "outputs": [
    {
     "name": "stdout",
     "output_type": "stream",
     "text": [
      "Requirement already satisfied: dvc[gdrive] in /Users/davidstreuli/anaconda3/envs/dvcdemo/lib/python3.10/site-packages (3.55.2)\n",
      "Requirement already satisfied: attrs>=22.2.0 in /Users/davidstreuli/anaconda3/envs/dvcdemo/lib/python3.10/site-packages (from dvc[gdrive]) (24.2.0)\n",
      "Requirement already satisfied: celery in /Users/davidstreuli/anaconda3/envs/dvcdemo/lib/python3.10/site-packages (from dvc[gdrive]) (5.4.0)\n",
      "Requirement already satisfied: colorama>=0.3.9 in /Users/davidstreuli/anaconda3/envs/dvcdemo/lib/python3.10/site-packages (from dvc[gdrive]) (0.4.6)\n",
      "Requirement already satisfied: configobj>=5.0.6 in /Users/davidstreuli/anaconda3/envs/dvcdemo/lib/python3.10/site-packages (from dvc[gdrive]) (5.0.9)\n",
      "Requirement already satisfied: distro>=1.3 in /Users/davidstreuli/anaconda3/envs/dvcdemo/lib/python3.10/site-packages (from dvc[gdrive]) (1.9.0)\n",
      "Requirement already satisfied: dpath<3,>=2.1.0 in /Users/davidstreuli/anaconda3/envs/dvcdemo/lib/python3.10/site-packages (from dvc[gdrive]) (2.2.0)\n",
      "Requirement already satisfied: dulwich in /Users/davidstreuli/anaconda3/envs/dvcdemo/lib/python3.10/site-packages (from dvc[gdrive]) (0.22.1)\n",
      "Requirement already satisfied: dvc-data<3.17,>=3.16.2 in /Users/davidstreuli/anaconda3/envs/dvcdemo/lib/python3.10/site-packages (from dvc[gdrive]) (3.16.6)\n",
      "Requirement already satisfied: dvc-http>=2.29.0 in /Users/davidstreuli/anaconda3/envs/dvcdemo/lib/python3.10/site-packages (from dvc[gdrive]) (2.32.0)\n",
      "Requirement already satisfied: dvc-objects in /Users/davidstreuli/anaconda3/envs/dvcdemo/lib/python3.10/site-packages (from dvc[gdrive]) (5.1.0)\n",
      "Requirement already satisfied: dvc-render<2,>=1.0.1 in /Users/davidstreuli/anaconda3/envs/dvcdemo/lib/python3.10/site-packages (from dvc[gdrive]) (1.0.2)\n",
      "Requirement already satisfied: dvc-studio-client<1,>=0.21 in /Users/davidstreuli/anaconda3/envs/dvcdemo/lib/python3.10/site-packages (from dvc[gdrive]) (0.21.0)\n",
      "Requirement already satisfied: dvc-task<1,>=0.3.0 in /Users/davidstreuli/anaconda3/envs/dvcdemo/lib/python3.10/site-packages (from dvc[gdrive]) (0.4.0)\n",
      "Requirement already satisfied: flatten-dict<1,>=0.4.1 in /Users/davidstreuli/anaconda3/envs/dvcdemo/lib/python3.10/site-packages (from dvc[gdrive]) (0.4.2)\n",
      "Requirement already satisfied: flufl.lock<9,>=8.1.0 in /Users/davidstreuli/anaconda3/envs/dvcdemo/lib/python3.10/site-packages (from dvc[gdrive]) (8.1.0)\n",
      "Requirement already satisfied: fsspec>=2024.2.0 in /Users/davidstreuli/anaconda3/envs/dvcdemo/lib/python3.10/site-packages (from dvc[gdrive]) (2024.9.0)\n",
      "Requirement already satisfied: funcy>=1.14 in /Users/davidstreuli/anaconda3/envs/dvcdemo/lib/python3.10/site-packages (from dvc[gdrive]) (2.0)\n",
      "Requirement already satisfied: grandalf<1,>=0.7 in /Users/davidstreuli/anaconda3/envs/dvcdemo/lib/python3.10/site-packages (from dvc[gdrive]) (0.8)\n",
      "Requirement already satisfied: gto<2,>=1.6.0 in /Users/davidstreuli/anaconda3/envs/dvcdemo/lib/python3.10/site-packages (from dvc[gdrive]) (1.7.1)\n",
      "Requirement already satisfied: hydra-core>=1.1 in /Users/davidstreuli/anaconda3/envs/dvcdemo/lib/python3.10/site-packages (from dvc[gdrive]) (1.3.2)\n",
      "Requirement already satisfied: iterative-telemetry>=0.0.7 in /Users/davidstreuli/anaconda3/envs/dvcdemo/lib/python3.10/site-packages (from dvc[gdrive]) (0.0.9)\n",
      "Requirement already satisfied: kombu in /Users/davidstreuli/anaconda3/envs/dvcdemo/lib/python3.10/site-packages (from dvc[gdrive]) (5.4.2)\n",
      "Requirement already satisfied: networkx>=2.5 in /Users/davidstreuli/anaconda3/envs/dvcdemo/lib/python3.10/site-packages (from dvc[gdrive]) (3.3)\n",
      "Requirement already satisfied: omegaconf in /Users/davidstreuli/anaconda3/envs/dvcdemo/lib/python3.10/site-packages (from dvc[gdrive]) (2.3.0)\n",
      "Requirement already satisfied: packaging>=19 in /Users/davidstreuli/anaconda3/envs/dvcdemo/lib/python3.10/site-packages (from dvc[gdrive]) (24.1)\n",
      "Requirement already satisfied: pathspec>=0.10.3 in /Users/davidstreuli/anaconda3/envs/dvcdemo/lib/python3.10/site-packages (from dvc[gdrive]) (0.12.1)\n",
      "Requirement already satisfied: platformdirs<4,>=3.1.1 in /Users/davidstreuli/anaconda3/envs/dvcdemo/lib/python3.10/site-packages (from dvc[gdrive]) (3.11.0)\n",
      "Requirement already satisfied: psutil>=5.8 in /Users/davidstreuli/anaconda3/envs/dvcdemo/lib/python3.10/site-packages (from dvc[gdrive]) (6.0.0)\n",
      "Requirement already satisfied: pydot>=1.2.4 in /Users/davidstreuli/anaconda3/envs/dvcdemo/lib/python3.10/site-packages (from dvc[gdrive]) (3.0.2)\n",
      "Requirement already satisfied: pygtrie>=2.3.2 in /Users/davidstreuli/anaconda3/envs/dvcdemo/lib/python3.10/site-packages (from dvc[gdrive]) (2.5.0)\n",
      "Requirement already satisfied: pyparsing>=2.4.7 in /Users/davidstreuli/anaconda3/envs/dvcdemo/lib/python3.10/site-packages (from dvc[gdrive]) (3.1.4)\n",
      "Requirement already satisfied: requests>=2.22 in /Users/davidstreuli/anaconda3/envs/dvcdemo/lib/python3.10/site-packages (from dvc[gdrive]) (2.32.3)\n",
      "Requirement already satisfied: rich>=12 in /Users/davidstreuli/anaconda3/envs/dvcdemo/lib/python3.10/site-packages (from dvc[gdrive]) (13.8.1)\n",
      "Requirement already satisfied: ruamel.yaml>=0.17.11 in /Users/davidstreuli/anaconda3/envs/dvcdemo/lib/python3.10/site-packages (from dvc[gdrive]) (0.18.6)\n",
      "Requirement already satisfied: scmrepo<4,>=3.3.4 in /Users/davidstreuli/anaconda3/envs/dvcdemo/lib/python3.10/site-packages (from dvc[gdrive]) (3.3.8)\n",
      "Requirement already satisfied: shortuuid>=0.5 in /Users/davidstreuli/anaconda3/envs/dvcdemo/lib/python3.10/site-packages (from dvc[gdrive]) (1.0.13)\n",
      "Requirement already satisfied: shtab<2,>=1.3.4 in /Users/davidstreuli/anaconda3/envs/dvcdemo/lib/python3.10/site-packages (from dvc[gdrive]) (1.7.1)\n",
      "Requirement already satisfied: tabulate>=0.8.7 in /Users/davidstreuli/anaconda3/envs/dvcdemo/lib/python3.10/site-packages (from dvc[gdrive]) (0.9.0)\n",
      "Requirement already satisfied: tomlkit>=0.11.1 in /Users/davidstreuli/anaconda3/envs/dvcdemo/lib/python3.10/site-packages (from dvc[gdrive]) (0.13.2)\n",
      "Requirement already satisfied: tqdm<5,>=4.63.1 in /Users/davidstreuli/anaconda3/envs/dvcdemo/lib/python3.10/site-packages (from dvc[gdrive]) (4.66.5)\n",
      "Requirement already satisfied: voluptuous>=0.11.7 in /Users/davidstreuli/anaconda3/envs/dvcdemo/lib/python3.10/site-packages (from dvc[gdrive]) (0.15.2)\n",
      "Requirement already satisfied: zc.lockfile>=1.2.1 in /Users/davidstreuli/anaconda3/envs/dvcdemo/lib/python3.10/site-packages (from dvc[gdrive]) (3.0.post1)\n",
      "Requirement already satisfied: dvc-gdrive<4,>=3 in /Users/davidstreuli/anaconda3/envs/dvcdemo/lib/python3.10/site-packages (from dvc[gdrive]) (3.0.1)\n",
      "Requirement already satisfied: dictdiffer>=0.8.1 in /Users/davidstreuli/anaconda3/envs/dvcdemo/lib/python3.10/site-packages (from dvc-data<3.17,>=3.16.2->dvc[gdrive]) (0.9.0)\n",
      "Requirement already satisfied: diskcache>=5.2.1 in /Users/davidstreuli/anaconda3/envs/dvcdemo/lib/python3.10/site-packages (from dvc-data<3.17,>=3.16.2->dvc[gdrive]) (5.6.3)\n",
      "Requirement already satisfied: sqltrie<1,>=0.11.0 in /Users/davidstreuli/anaconda3/envs/dvcdemo/lib/python3.10/site-packages (from dvc-data<3.17,>=3.16.2->dvc[gdrive]) (0.11.1)\n",
      "Requirement already satisfied: orjson<4,>=3 in /Users/davidstreuli/anaconda3/envs/dvcdemo/lib/python3.10/site-packages (from dvc-data<3.17,>=3.16.2->dvc[gdrive]) (3.10.7)\n",
      "Requirement already satisfied: pydrive2>=1.19.0 in /Users/davidstreuli/anaconda3/envs/dvcdemo/lib/python3.10/site-packages (from pydrive2[fsspec]>=1.19.0->dvc-gdrive<4,>=3->dvc[gdrive]) (1.20.0)\n",
      "Requirement already satisfied: aiohttp-retry>=2.5.0 in /Users/davidstreuli/anaconda3/envs/dvcdemo/lib/python3.10/site-packages (from dvc-http>=2.29.0->dvc[gdrive]) (2.8.3)\n",
      "Requirement already satisfied: billiard<5.0,>=4.2.0 in /Users/davidstreuli/anaconda3/envs/dvcdemo/lib/python3.10/site-packages (from celery->dvc[gdrive]) (4.2.1)\n",
      "Requirement already satisfied: vine<6.0,>=5.1.0 in /Users/davidstreuli/anaconda3/envs/dvcdemo/lib/python3.10/site-packages (from celery->dvc[gdrive]) (5.1.0)\n",
      "Requirement already satisfied: click<9.0,>=8.1.2 in /Users/davidstreuli/anaconda3/envs/dvcdemo/lib/python3.10/site-packages (from celery->dvc[gdrive]) (8.1.7)\n",
      "Requirement already satisfied: click-didyoumean>=0.3.0 in /Users/davidstreuli/anaconda3/envs/dvcdemo/lib/python3.10/site-packages (from celery->dvc[gdrive]) (0.3.1)\n",
      "Requirement already satisfied: click-repl>=0.2.0 in /Users/davidstreuli/anaconda3/envs/dvcdemo/lib/python3.10/site-packages (from celery->dvc[gdrive]) (0.3.0)\n",
      "Requirement already satisfied: click-plugins>=1.1.1 in /Users/davidstreuli/anaconda3/envs/dvcdemo/lib/python3.10/site-packages (from celery->dvc[gdrive]) (1.1.1)\n",
      "Requirement already satisfied: tzdata>=2022.7 in /Users/davidstreuli/anaconda3/envs/dvcdemo/lib/python3.10/site-packages (from celery->dvc[gdrive]) (2024.2)\n",
      "Requirement already satisfied: python-dateutil>=2.8.2 in /Users/davidstreuli/anaconda3/envs/dvcdemo/lib/python3.10/site-packages (from celery->dvc[gdrive]) (2.9.0)\n",
      "Requirement already satisfied: six<2.0,>=1.12 in /Users/davidstreuli/anaconda3/envs/dvcdemo/lib/python3.10/site-packages (from flatten-dict<1,>=0.4.1->dvc[gdrive]) (1.16.0)\n",
      "Requirement already satisfied: atpublic in /Users/davidstreuli/anaconda3/envs/dvcdemo/lib/python3.10/site-packages (from flufl.lock<9,>=8.1.0->dvc[gdrive]) (5.0)\n",
      "Requirement already satisfied: typer>=0.4.1 in /Users/davidstreuli/anaconda3/envs/dvcdemo/lib/python3.10/site-packages (from gto<2,>=1.6.0->dvc[gdrive]) (0.12.5)\n",
      "Requirement already satisfied: pydantic!=2.0.0,<3,>=1.9.0 in /Users/davidstreuli/anaconda3/envs/dvcdemo/lib/python3.10/site-packages (from gto<2,>=1.6.0->dvc[gdrive]) (2.9.2)\n",
      "Requirement already satisfied: semver>=2.13.0 in /Users/davidstreuli/anaconda3/envs/dvcdemo/lib/python3.10/site-packages (from gto<2,>=1.6.0->dvc[gdrive]) (3.0.2)\n",
      "Requirement already satisfied: entrypoints in /Users/davidstreuli/anaconda3/envs/dvcdemo/lib/python3.10/site-packages (from gto<2,>=1.6.0->dvc[gdrive]) (0.4)\n",
      "Requirement already satisfied: antlr4-python3-runtime==4.9.* in /Users/davidstreuli/anaconda3/envs/dvcdemo/lib/python3.10/site-packages (from hydra-core>=1.1->dvc[gdrive]) (4.9.3)\n",
      "Requirement already satisfied: appdirs in /Users/davidstreuli/anaconda3/envs/dvcdemo/lib/python3.10/site-packages (from iterative-telemetry>=0.0.7->dvc[gdrive]) (1.4.4)\n",
      "Requirement already satisfied: filelock in /Users/davidstreuli/anaconda3/envs/dvcdemo/lib/python3.10/site-packages (from iterative-telemetry>=0.0.7->dvc[gdrive]) (3.16.1)\n",
      "Requirement already satisfied: amqp<6.0.0,>=5.1.1 in /Users/davidstreuli/anaconda3/envs/dvcdemo/lib/python3.10/site-packages (from kombu->dvc[gdrive]) (5.2.0)\n",
      "Requirement already satisfied: PyYAML>=5.1.0 in /Users/davidstreuli/anaconda3/envs/dvcdemo/lib/python3.10/site-packages (from omegaconf->dvc[gdrive]) (6.0.2)\n",
      "Requirement already satisfied: charset-normalizer<4,>=2 in /Users/davidstreuli/anaconda3/envs/dvcdemo/lib/python3.10/site-packages (from requests>=2.22->dvc[gdrive]) (3.3.2)\n",
      "Requirement already satisfied: idna<4,>=2.5 in /Users/davidstreuli/anaconda3/envs/dvcdemo/lib/python3.10/site-packages (from requests>=2.22->dvc[gdrive]) (3.10)\n",
      "Requirement already satisfied: urllib3<3,>=1.21.1 in /Users/davidstreuli/anaconda3/envs/dvcdemo/lib/python3.10/site-packages (from requests>=2.22->dvc[gdrive]) (2.2.3)\n",
      "Requirement already satisfied: certifi>=2017.4.17 in /Users/davidstreuli/anaconda3/envs/dvcdemo/lib/python3.10/site-packages (from requests>=2.22->dvc[gdrive]) (2024.8.30)\n",
      "Requirement already satisfied: markdown-it-py>=2.2.0 in /Users/davidstreuli/anaconda3/envs/dvcdemo/lib/python3.10/site-packages (from rich>=12->dvc[gdrive]) (3.0.0)\n",
      "Requirement already satisfied: pygments<3.0.0,>=2.13.0 in /Users/davidstreuli/anaconda3/envs/dvcdemo/lib/python3.10/site-packages (from rich>=12->dvc[gdrive]) (2.18.0)\n",
      "Requirement already satisfied: ruamel.yaml.clib>=0.2.7 in /Users/davidstreuli/anaconda3/envs/dvcdemo/lib/python3.10/site-packages (from ruamel.yaml>=0.17.11->dvc[gdrive]) (0.2.8)\n",
      "Requirement already satisfied: gitpython>3 in /Users/davidstreuli/anaconda3/envs/dvcdemo/lib/python3.10/site-packages (from scmrepo<4,>=3.3.4->dvc[gdrive]) (3.1.43)\n",
      "Requirement already satisfied: pygit2>=1.14.0 in /Users/davidstreuli/anaconda3/envs/dvcdemo/lib/python3.10/site-packages (from scmrepo<4,>=3.3.4->dvc[gdrive]) (1.15.1)\n",
      "Requirement already satisfied: asyncssh<3,>=2.13.1 in /Users/davidstreuli/anaconda3/envs/dvcdemo/lib/python3.10/site-packages (from scmrepo<4,>=3.3.4->dvc[gdrive]) (2.17.0)\n",
      "Requirement already satisfied: setuptools in /Users/davidstreuli/anaconda3/envs/dvcdemo/lib/python3.10/site-packages (from zc.lockfile>=1.2.1->dvc[gdrive]) (75.1.0)\n",
      "Requirement already satisfied: aiohttp in /Users/davidstreuli/anaconda3/envs/dvcdemo/lib/python3.10/site-packages (from aiohttp-retry>=2.5.0->dvc-http>=2.29.0->dvc[gdrive]) (3.10.8)\n",
      "Requirement already satisfied: cryptography>=39.0 in /Users/davidstreuli/anaconda3/envs/dvcdemo/lib/python3.10/site-packages (from asyncssh<3,>=2.13.1->scmrepo<4,>=3.3.4->dvc[gdrive]) (43.0.1)\n",
      "Requirement already satisfied: typing-extensions>=4.0.0 in /Users/davidstreuli/anaconda3/envs/dvcdemo/lib/python3.10/site-packages (from asyncssh<3,>=2.13.1->scmrepo<4,>=3.3.4->dvc[gdrive]) (4.12.2)\n",
      "Requirement already satisfied: prompt-toolkit>=3.0.36 in /Users/davidstreuli/anaconda3/envs/dvcdemo/lib/python3.10/site-packages (from click-repl>=0.2.0->celery->dvc[gdrive]) (3.0.48)\n",
      "Requirement already satisfied: gitdb<5,>=4.0.1 in /Users/davidstreuli/anaconda3/envs/dvcdemo/lib/python3.10/site-packages (from gitpython>3->scmrepo<4,>=3.3.4->dvc[gdrive]) (4.0.11)\n",
      "Requirement already satisfied: mdurl~=0.1 in /Users/davidstreuli/anaconda3/envs/dvcdemo/lib/python3.10/site-packages (from markdown-it-py>=2.2.0->rich>=12->dvc[gdrive]) (0.1.2)\n",
      "Requirement already satisfied: annotated-types>=0.6.0 in /Users/davidstreuli/anaconda3/envs/dvcdemo/lib/python3.10/site-packages (from pydantic!=2.0.0,<3,>=1.9.0->gto<2,>=1.6.0->dvc[gdrive]) (0.7.0)\n",
      "Requirement already satisfied: pydantic-core==2.23.4 in /Users/davidstreuli/anaconda3/envs/dvcdemo/lib/python3.10/site-packages (from pydantic!=2.0.0,<3,>=1.9.0->gto<2,>=1.6.0->dvc[gdrive]) (2.23.4)\n",
      "Requirement already satisfied: google-api-python-client>=1.12.5 in /Users/davidstreuli/anaconda3/envs/dvcdemo/lib/python3.10/site-packages (from pydrive2>=1.19.0->pydrive2[fsspec]>=1.19.0->dvc-gdrive<4,>=3->dvc[gdrive]) (2.147.0)\n",
      "Requirement already satisfied: oauth2client>=4.0.0 in /Users/davidstreuli/anaconda3/envs/dvcdemo/lib/python3.10/site-packages (from pydrive2>=1.19.0->pydrive2[fsspec]>=1.19.0->dvc-gdrive<4,>=3->dvc[gdrive]) (4.1.3)\n",
      "Requirement already satisfied: pyOpenSSL>=19.1.0 in /Users/davidstreuli/anaconda3/envs/dvcdemo/lib/python3.10/site-packages (from pydrive2>=1.19.0->pydrive2[fsspec]>=1.19.0->dvc-gdrive<4,>=3->dvc[gdrive]) (24.2.1)\n",
      "Requirement already satisfied: cffi>=1.16.0 in /Users/davidstreuli/anaconda3/envs/dvcdemo/lib/python3.10/site-packages (from pygit2>=1.14.0->scmrepo<4,>=3.3.4->dvc[gdrive]) (1.17.1)\n",
      "Requirement already satisfied: shellingham>=1.3.0 in /Users/davidstreuli/anaconda3/envs/dvcdemo/lib/python3.10/site-packages (from typer>=0.4.1->gto<2,>=1.6.0->dvc[gdrive]) (1.5.4)\n",
      "Requirement already satisfied: aiohappyeyeballs>=2.3.0 in /Users/davidstreuli/anaconda3/envs/dvcdemo/lib/python3.10/site-packages (from aiohttp->aiohttp-retry>=2.5.0->dvc-http>=2.29.0->dvc[gdrive]) (2.4.2)\n",
      "Requirement already satisfied: aiosignal>=1.1.2 in /Users/davidstreuli/anaconda3/envs/dvcdemo/lib/python3.10/site-packages (from aiohttp->aiohttp-retry>=2.5.0->dvc-http>=2.29.0->dvc[gdrive]) (1.3.1)\n",
      "Requirement already satisfied: frozenlist>=1.1.1 in /Users/davidstreuli/anaconda3/envs/dvcdemo/lib/python3.10/site-packages (from aiohttp->aiohttp-retry>=2.5.0->dvc-http>=2.29.0->dvc[gdrive]) (1.4.1)\n",
      "Requirement already satisfied: multidict<7.0,>=4.5 in /Users/davidstreuli/anaconda3/envs/dvcdemo/lib/python3.10/site-packages (from aiohttp->aiohttp-retry>=2.5.0->dvc-http>=2.29.0->dvc[gdrive]) (6.1.0)\n",
      "Requirement already satisfied: yarl<2.0,>=1.12.0 in /Users/davidstreuli/anaconda3/envs/dvcdemo/lib/python3.10/site-packages (from aiohttp->aiohttp-retry>=2.5.0->dvc-http>=2.29.0->dvc[gdrive]) (1.13.1)\n",
      "Requirement already satisfied: async-timeout<5.0,>=4.0 in /Users/davidstreuli/anaconda3/envs/dvcdemo/lib/python3.10/site-packages (from aiohttp->aiohttp-retry>=2.5.0->dvc-http>=2.29.0->dvc[gdrive]) (4.0.3)\n",
      "Requirement already satisfied: pycparser in /Users/davidstreuli/anaconda3/envs/dvcdemo/lib/python3.10/site-packages (from cffi>=1.16.0->pygit2>=1.14.0->scmrepo<4,>=3.3.4->dvc[gdrive]) (2.22)\n",
      "Requirement already satisfied: smmap<6,>=3.0.1 in /Users/davidstreuli/anaconda3/envs/dvcdemo/lib/python3.10/site-packages (from gitdb<5,>=4.0.1->gitpython>3->scmrepo<4,>=3.3.4->dvc[gdrive]) (5.0.1)\n",
      "Requirement already satisfied: httplib2<1.dev0,>=0.19.0 in /Users/davidstreuli/anaconda3/envs/dvcdemo/lib/python3.10/site-packages (from google-api-python-client>=1.12.5->pydrive2>=1.19.0->pydrive2[fsspec]>=1.19.0->dvc-gdrive<4,>=3->dvc[gdrive]) (0.22.0)\n",
      "Requirement already satisfied: google-auth!=2.24.0,!=2.25.0,<3.0.0.dev0,>=1.32.0 in /Users/davidstreuli/anaconda3/envs/dvcdemo/lib/python3.10/site-packages (from google-api-python-client>=1.12.5->pydrive2>=1.19.0->pydrive2[fsspec]>=1.19.0->dvc-gdrive<4,>=3->dvc[gdrive]) (2.35.0)\n",
      "Requirement already satisfied: google-auth-httplib2<1.0.0,>=0.2.0 in /Users/davidstreuli/anaconda3/envs/dvcdemo/lib/python3.10/site-packages (from google-api-python-client>=1.12.5->pydrive2>=1.19.0->pydrive2[fsspec]>=1.19.0->dvc-gdrive<4,>=3->dvc[gdrive]) (0.2.0)\n",
      "Requirement already satisfied: google-api-core!=2.0.*,!=2.1.*,!=2.2.*,!=2.3.0,<3.0.0.dev0,>=1.31.5 in /Users/davidstreuli/anaconda3/envs/dvcdemo/lib/python3.10/site-packages (from google-api-python-client>=1.12.5->pydrive2>=1.19.0->pydrive2[fsspec]>=1.19.0->dvc-gdrive<4,>=3->dvc[gdrive]) (2.20.0)\n",
      "Requirement already satisfied: uritemplate<5,>=3.0.1 in /Users/davidstreuli/anaconda3/envs/dvcdemo/lib/python3.10/site-packages (from google-api-python-client>=1.12.5->pydrive2>=1.19.0->pydrive2[fsspec]>=1.19.0->dvc-gdrive<4,>=3->dvc[gdrive]) (4.1.1)\n",
      "Requirement already satisfied: pyasn1>=0.1.7 in /Users/davidstreuli/anaconda3/envs/dvcdemo/lib/python3.10/site-packages (from oauth2client>=4.0.0->pydrive2>=1.19.0->pydrive2[fsspec]>=1.19.0->dvc-gdrive<4,>=3->dvc[gdrive]) (0.6.1)\n",
      "Requirement already satisfied: pyasn1-modules>=0.0.5 in /Users/davidstreuli/anaconda3/envs/dvcdemo/lib/python3.10/site-packages (from oauth2client>=4.0.0->pydrive2>=1.19.0->pydrive2[fsspec]>=1.19.0->dvc-gdrive<4,>=3->dvc[gdrive]) (0.4.1)\n",
      "Requirement already satisfied: rsa>=3.1.4 in /Users/davidstreuli/anaconda3/envs/dvcdemo/lib/python3.10/site-packages (from oauth2client>=4.0.0->pydrive2>=1.19.0->pydrive2[fsspec]>=1.19.0->dvc-gdrive<4,>=3->dvc[gdrive]) (4.9)\n",
      "Requirement already satisfied: wcwidth in /Users/davidstreuli/anaconda3/envs/dvcdemo/lib/python3.10/site-packages (from prompt-toolkit>=3.0.36->click-repl>=0.2.0->celery->dvc[gdrive]) (0.2.13)\n",
      "Requirement already satisfied: googleapis-common-protos<2.0.dev0,>=1.56.2 in /Users/davidstreuli/anaconda3/envs/dvcdemo/lib/python3.10/site-packages (from google-api-core!=2.0.*,!=2.1.*,!=2.2.*,!=2.3.0,<3.0.0.dev0,>=1.31.5->google-api-python-client>=1.12.5->pydrive2>=1.19.0->pydrive2[fsspec]>=1.19.0->dvc-gdrive<4,>=3->dvc[gdrive]) (1.65.0)\n",
      "Requirement already satisfied: protobuf!=3.20.0,!=3.20.1,!=4.21.0,!=4.21.1,!=4.21.2,!=4.21.3,!=4.21.4,!=4.21.5,<6.0.0.dev0,>=3.19.5 in /Users/davidstreuli/anaconda3/envs/dvcdemo/lib/python3.10/site-packages (from google-api-core!=2.0.*,!=2.1.*,!=2.2.*,!=2.3.0,<3.0.0.dev0,>=1.31.5->google-api-python-client>=1.12.5->pydrive2>=1.19.0->pydrive2[fsspec]>=1.19.0->dvc-gdrive<4,>=3->dvc[gdrive]) (5.28.2)\n",
      "Requirement already satisfied: proto-plus<2.0.0dev,>=1.22.3 in /Users/davidstreuli/anaconda3/envs/dvcdemo/lib/python3.10/site-packages (from google-api-core!=2.0.*,!=2.1.*,!=2.2.*,!=2.3.0,<3.0.0.dev0,>=1.31.5->google-api-python-client>=1.12.5->pydrive2>=1.19.0->pydrive2[fsspec]>=1.19.0->dvc-gdrive<4,>=3->dvc[gdrive]) (1.24.0)\n",
      "Requirement already satisfied: cachetools<6.0,>=2.0.0 in /Users/davidstreuli/anaconda3/envs/dvcdemo/lib/python3.10/site-packages (from google-auth!=2.24.0,!=2.25.0,<3.0.0.dev0,>=1.32.0->google-api-python-client>=1.12.5->pydrive2>=1.19.0->pydrive2[fsspec]>=1.19.0->dvc-gdrive<4,>=3->dvc[gdrive]) (5.5.0)\n"
     ]
    }
   ],
   "source": [
    "%pip install \"dvc[gdrive]\""
   ]
  },
  {
   "cell_type": "code",
   "execution_count": 16,
   "id": "02fd82ab",
   "metadata": {},
   "outputs": [
    {
     "name": "stdout",
     "output_type": "stream",
     "text": [
      "Setting 'gdrive_remote' as a default remote.\n",
      "\u001b[0m"
     ]
    }
   ],
   "source": [
    "!dvc remote add -d gdrive_remote gdrive://1nwS0cuebPIGgrNYEdOC8v2ykgIi2ISKQ"
   ]
  },
  {
   "cell_type": "code",
   "execution_count": 17,
   "id": "393cf7b5",
   "metadata": {},
   "outputs": [
    {
     "name": "stdout",
     "output_type": "stream",
     "text": [
      "gdrive_remote\tgdrive://1nwS0cuebPIGgrNYEdOC8v2ykgIi2ISKQ\n",
      "\u001b[0m"
     ]
    }
   ],
   "source": [
    "!dvc remote list"
   ]
  },
  {
   "cell_type": "markdown",
   "id": "e0e1e6b3",
   "metadata": {},
   "source": [
    "## Setting Up a Pipeline and Tracking Changes"
   ]
  },
  {
   "cell_type": "code",
   "execution_count": 24,
   "id": "d84c5ace",
   "metadata": {},
   "outputs": [
    {
     "name": "stdout",
     "output_type": "stream",
     "text": [
      "Added stage 'prepare' in 'dvc.yaml'                                   core\u001b[39m>\n",
      "\n",
      "To track the changes with git, run:\n",
      "\n",
      "\tgit add dvc.yaml\n",
      "\n",
      "To enable auto staging, run:\n",
      "\n",
      "\tdvc config core.autostage true\n",
      "\u001b[0m"
     ]
    }
   ],
   "source": [
    "!dvc stage add -n prepare \\\n",
    "  -d demo/prepare.py -d data/bikesharing/train/bikeshare_v1.0.txt \\\n",
    "  -o data/bikesharing/train/bikeshare_prepared.txt \\\n",
    "  python demo/prepare.py \\"
   ]
  },
  {
   "cell_type": "code",
   "execution_count": 25,
   "id": "c19a0e2e",
   "metadata": {},
   "outputs": [
    {
     "name": "stdout",
     "output_type": "stream",
     "text": [
      "Added stage 'train' in 'dvc.yaml'                                     core\u001b[39m>\n",
      "\n",
      "To track the changes with git, run:\n",
      "\n",
      "\tgit add dvc.yaml\n",
      "\n",
      "To enable auto staging, run:\n",
      "\n",
      "\tdvc config core.autostage true\n",
      "\u001b[0m"
     ]
    }
   ],
   "source": [
    "!dvc stage add -n train \\\n",
    "  -d demo/train.py -d data/bikesharing/train/bikeshare_prepared.txt \\\n",
    "  python demo/train.py"
   ]
  },
  {
   "cell_type": "code",
   "execution_count": 26,
   "id": "7bf2eacc",
   "metadata": {},
   "outputs": [
    {
     "name": "stdout",
     "output_type": "stream",
     "text": [
      "Stage 'prepare' is cached - skipping run, checking out outputs                  \n",
      "Generating lock file 'dvc.lock'                                                 \n",
      "Updating lock file 'dvc.lock'\n",
      "\n",
      "Running stage 'train':                                                          \n",
      "> python demo/train.py\n",
      "Validation Results\n",
      "Mean Squared Error: 0.01420712167304092\n",
      "R-squared Value: 0.1806199635636475\n",
      "Figure(1000x600)\n",
      "Updating lock file 'dvc.lock'                                                   \n",
      "\n",
      "To track the changes with git, run:\n",
      "\n",
      "\tgit add dvc.lock\n",
      "\n",
      "To enable auto staging, run:\n",
      "\n",
      "\tdvc config core.autostage true\n",
      "Use `dvc push` to send your updates to remote storage.\n",
      "\u001b[0m"
     ]
    }
   ],
   "source": [
    "!dvc repro"
   ]
  }
 ],
 "metadata": {
  "kernelspec": {
   "display_name": "Python 3 (ipykernel)",
   "language": "python",
   "name": "python3"
  },
  "language_info": {
   "codemirror_mode": {
    "name": "ipython",
    "version": 3
   },
   "file_extension": ".py",
   "mimetype": "text/x-python",
   "name": "python",
   "nbconvert_exporter": "python",
   "pygments_lexer": "ipython3",
   "version": "3.10.15"
  }
 },
 "nbformat": 4,
 "nbformat_minor": 5
}
